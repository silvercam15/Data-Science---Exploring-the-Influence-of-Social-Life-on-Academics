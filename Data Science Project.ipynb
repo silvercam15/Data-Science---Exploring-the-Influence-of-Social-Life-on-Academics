{
 "cells": [
  {
   "cell_type": "markdown",
   "metadata": {},
   "source": [
    "# Exploring the Influence of Social Life on Academics\n"
   ]
  },
  {
   "cell_type": "markdown",
   "metadata": {},
   "source": [
    "### Silvia Camara, Brenna Leahy, Maria Gund\n"
   ]
  },
  {
   "cell_type": "markdown",
   "metadata": {},
   "source": [
    "Our project will be based on a dataset from Kaggle that explores the effect of socioeconomic factors on students grades from a survey of students’ math and portuguese language courses in secondary school. The dataset contains data gathered from Portuguese students who were surveyed on several different aspects of their life, including familial and social relations as well as their academic habits and socio-economic status.We plan to use the data set to predict a student's final grade in a class based on different social factors, including the amount of time he or she spends going out with friends, the quality of their family relationships, whether they take part in after-school activities, as well as the size of their family. Using several features, we want to see if there is a correlation between a student's social life and their grades. We also want to see if there is one specific feature (or a combination of features) that better predicts whether a student's grade will be above average, average, or below average. \n",
    "\n",
    "We plan to explore this topic by using principal component analysis to determine which parts of the data are most useful as well as Naive Bayes to present the data comprehensively and analyze it.\n"
   ]
  },
  {
   "cell_type": "code",
<<<<<<< HEAD
   "execution_count": 60,
   "metadata": {
    "collapsed": true
   },
=======
   "execution_count": 20,
   "metadata": {},
>>>>>>> b4576016fdbe6fafbde1d88f73ce734ec498aa87
   "outputs": [],
   "source": [
    "# Allow inline plotting of figures.\n",
    "%matplotlib inline\n",
    "\n",
    "# Import useful libraries.\n",
    "import matplotlib.pyplot as plt\n",
    "import numpy as np\n",
    "import pandas as pd\n",
    "\n",
    "from sklearn import metrics\n",
    "from sklearn.cluster import KMeans\n",
    "from sklearn.datasets import load_digits\n",
    "from sklearn.decomposition import PCA\n",
    "from sklearn.preprocessing import scale\n",
    "from sklearn.preprocessing import Imputer\n",
    "from matplotlib.colors import ListedColormap\n",
    "from sklearn.ensemble import RandomForestClassifier\n",
    "\n",
    "# Read the file into a DataFrame.\n",
    "math_data = pd.read_csv(\"student-mat.csv\")\n",
    "port_data = pd.read_csv(\"student-por.csv\")\n",
    "\n",
    "#data = data.fillna(0)\n",
    "#data = data.dropna()"
   ]
  },
  {
   "cell_type": "code",
<<<<<<< HEAD
   "execution_count": 61,
=======
   "execution_count": 21,
>>>>>>> b4576016fdbe6fafbde1d88f73ce734ec498aa87
   "metadata": {},
   "outputs": [
    {
     "name": "stdout",
     "output_type": "stream",
     "text": [
      "  school sex  age address famsize Pstatus  Medu  Fedu     Mjob      Fjob ...  \\\n",
      "0     GP   F   18       U     GT3       A     4     4  at_home   teacher ...   \n",
      "1     GP   F   17       U     GT3       T     1     1  at_home     other ...   \n",
      "2     GP   F   15       U     LE3       T     1     1  at_home     other ...   \n",
      "3     GP   F   15       U     GT3       T     4     2   health  services ...   \n",
      "4     GP   F   16       U     GT3       T     3     3    other     other ...   \n",
      "\n",
      "  romantic famrel  freetime  goout  Dalc Walc health absences  G1  G2  \n",
      "0       no      4         3      4     1    1      3        6   5   6  \n",
      "1       no      5         3      3     1    1      3        4   5   5  \n",
      "2       no      4         3      2     2    3      3       10   7   8  \n",
      "3      yes      3         2      2     1    1      5        2  15  14  \n",
      "4       no      4         3      2     1    2      5        4   6  10  \n",
      "\n",
      "[5 rows x 32 columns]\n",
      "\n",
      "0     6\n",
      "1     6\n",
      "2    10\n",
      "3    15\n",
      "4    10\n",
      "Name: G3, dtype: int64\n"
     ]
    }
   ],
   "source": [
    "# We need to fix what numbers go in the arrays to match our number of features and class\n",
    "\n",
    "X_math = math_data.iloc[:, :-1]  # features\n",
    "Y_math = math_data.iloc[:, -1]  # class\n",
    "\n",
    "X_port = port_data.iloc[:, :2]  # features\n",
    "Y_port = port_data.iloc[:, -1]  # class\n",
    "\n",
    "print(X_math.head())\n",
    "print()\n",
    "print(Y_math.head())"
   ]
  },
  {
   "cell_type": "markdown",
   "metadata": {},
   "source": [
    "## Math Data Set"
   ]
  },
  {
   "cell_type": "code",
   "execution_count": 62,
   "metadata": {},
   "outputs": [
    {
     "data": {
      "text/html": [
       "<div>\n",
       "<style>\n",
       "    .dataframe thead tr:only-child th {\n",
       "        text-align: right;\n",
       "    }\n",
       "\n",
       "    .dataframe thead th {\n",
       "        text-align: left;\n",
       "    }\n",
       "\n",
       "    .dataframe tbody tr th {\n",
       "        vertical-align: top;\n",
       "    }\n",
       "</style>\n",
       "<table border=\"1\" class=\"dataframe\">\n",
       "  <thead>\n",
       "    <tr style=\"text-align: right;\">\n",
       "      <th></th>\n",
       "      <th>school</th>\n",
       "      <th>sex</th>\n",
       "      <th>age</th>\n",
       "      <th>address</th>\n",
       "      <th>famsize</th>\n",
       "      <th>Pstatus</th>\n",
       "      <th>Medu</th>\n",
       "      <th>Fedu</th>\n",
       "      <th>Mjob</th>\n",
       "      <th>Fjob</th>\n",
       "      <th>...</th>\n",
       "      <th>famrel</th>\n",
       "      <th>freetime</th>\n",
       "      <th>goout</th>\n",
       "      <th>Dalc</th>\n",
       "      <th>Walc</th>\n",
       "      <th>health</th>\n",
       "      <th>absences</th>\n",
       "      <th>G1</th>\n",
       "      <th>G2</th>\n",
       "      <th>G3</th>\n",
       "    </tr>\n",
       "  </thead>\n",
       "  <tbody>\n",
       "    <tr>\n",
       "      <th>0</th>\n",
       "      <td>GP</td>\n",
       "      <td>F</td>\n",
       "      <td>18</td>\n",
       "      <td>U</td>\n",
       "      <td>GT3</td>\n",
       "      <td>A</td>\n",
       "      <td>4</td>\n",
       "      <td>4</td>\n",
       "      <td>at_home</td>\n",
       "      <td>teacher</td>\n",
       "      <td>...</td>\n",
       "      <td>4</td>\n",
       "      <td>3</td>\n",
       "      <td>4</td>\n",
       "      <td>1</td>\n",
       "      <td>1</td>\n",
       "      <td>3</td>\n",
       "      <td>6</td>\n",
       "      <td>5</td>\n",
       "      <td>6</td>\n",
       "      <td>6</td>\n",
       "    </tr>\n",
       "    <tr>\n",
       "      <th>1</th>\n",
       "      <td>GP</td>\n",
       "      <td>F</td>\n",
       "      <td>17</td>\n",
       "      <td>U</td>\n",
       "      <td>GT3</td>\n",
       "      <td>T</td>\n",
       "      <td>1</td>\n",
       "      <td>1</td>\n",
       "      <td>at_home</td>\n",
       "      <td>other</td>\n",
       "      <td>...</td>\n",
       "      <td>5</td>\n",
       "      <td>3</td>\n",
       "      <td>3</td>\n",
       "      <td>1</td>\n",
       "      <td>1</td>\n",
       "      <td>3</td>\n",
       "      <td>4</td>\n",
       "      <td>5</td>\n",
       "      <td>5</td>\n",
       "      <td>6</td>\n",
       "    </tr>\n",
       "    <tr>\n",
       "      <th>2</th>\n",
       "      <td>GP</td>\n",
       "      <td>F</td>\n",
       "      <td>15</td>\n",
       "      <td>U</td>\n",
       "      <td>LE3</td>\n",
       "      <td>T</td>\n",
       "      <td>1</td>\n",
       "      <td>1</td>\n",
       "      <td>at_home</td>\n",
       "      <td>other</td>\n",
       "      <td>...</td>\n",
       "      <td>4</td>\n",
       "      <td>3</td>\n",
       "      <td>2</td>\n",
       "      <td>2</td>\n",
       "      <td>3</td>\n",
       "      <td>3</td>\n",
       "      <td>10</td>\n",
       "      <td>7</td>\n",
       "      <td>8</td>\n",
       "      <td>10</td>\n",
       "    </tr>\n",
       "    <tr>\n",
       "      <th>3</th>\n",
       "      <td>GP</td>\n",
       "      <td>F</td>\n",
       "      <td>15</td>\n",
       "      <td>U</td>\n",
       "      <td>GT3</td>\n",
       "      <td>T</td>\n",
       "      <td>4</td>\n",
       "      <td>2</td>\n",
       "      <td>health</td>\n",
       "      <td>services</td>\n",
       "      <td>...</td>\n",
       "      <td>3</td>\n",
       "      <td>2</td>\n",
       "      <td>2</td>\n",
       "      <td>1</td>\n",
       "      <td>1</td>\n",
       "      <td>5</td>\n",
       "      <td>2</td>\n",
       "      <td>15</td>\n",
       "      <td>14</td>\n",
       "      <td>15</td>\n",
       "    </tr>\n",
       "    <tr>\n",
       "      <th>4</th>\n",
       "      <td>GP</td>\n",
       "      <td>F</td>\n",
       "      <td>16</td>\n",
       "      <td>U</td>\n",
       "      <td>GT3</td>\n",
       "      <td>T</td>\n",
       "      <td>3</td>\n",
       "      <td>3</td>\n",
       "      <td>other</td>\n",
       "      <td>other</td>\n",
       "      <td>...</td>\n",
       "      <td>4</td>\n",
       "      <td>3</td>\n",
       "      <td>2</td>\n",
       "      <td>1</td>\n",
       "      <td>2</td>\n",
       "      <td>5</td>\n",
       "      <td>4</td>\n",
       "      <td>6</td>\n",
       "      <td>10</td>\n",
       "      <td>10</td>\n",
       "    </tr>\n",
       "  </tbody>\n",
       "</table>\n",
       "<p>5 rows × 33 columns</p>\n",
       "</div>"
      ],
      "text/plain": [
       "  school sex  age address famsize Pstatus  Medu  Fedu     Mjob      Fjob ...  \\\n",
       "0     GP   F   18       U     GT3       A     4     4  at_home   teacher ...   \n",
       "1     GP   F   17       U     GT3       T     1     1  at_home     other ...   \n",
       "2     GP   F   15       U     LE3       T     1     1  at_home     other ...   \n",
       "3     GP   F   15       U     GT3       T     4     2   health  services ...   \n",
       "4     GP   F   16       U     GT3       T     3     3    other     other ...   \n",
       "\n",
       "  famrel freetime  goout  Dalc  Walc health absences  G1  G2  G3  \n",
       "0      4        3      4     1     1      3        6   5   6   6  \n",
       "1      5        3      3     1     1      3        4   5   5   6  \n",
       "2      4        3      2     2     3      3       10   7   8  10  \n",
       "3      3        2      2     1     1      5        2  15  14  15  \n",
       "4      4        3      2     1     2      5        4   6  10  10  \n",
       "\n",
       "[5 rows x 33 columns]"
      ]
     },
     "execution_count": 62,
     "metadata": {},
     "output_type": "execute_result"
    }
   ],
   "source": [
    "# Output the first few rows of the math dataset.\n",
    "math_data.head()"
   ]
  },
  {
   "cell_type": "markdown",
   "metadata": {},
   "source": [
    "## Portuguese Data Set"
   ]
  },
  {
   "cell_type": "code",
   "execution_count": 63,
   "metadata": {},
   "outputs": [
    {
     "data": {
      "text/html": [
       "<div>\n",
       "<style>\n",
       "    .dataframe thead tr:only-child th {\n",
       "        text-align: right;\n",
       "    }\n",
       "\n",
       "    .dataframe thead th {\n",
       "        text-align: left;\n",
       "    }\n",
       "\n",
       "    .dataframe tbody tr th {\n",
       "        vertical-align: top;\n",
       "    }\n",
       "</style>\n",
       "<table border=\"1\" class=\"dataframe\">\n",
       "  <thead>\n",
       "    <tr style=\"text-align: right;\">\n",
       "      <th></th>\n",
       "      <th>school</th>\n",
       "      <th>sex</th>\n",
       "      <th>age</th>\n",
       "      <th>address</th>\n",
       "      <th>famsize</th>\n",
       "      <th>Pstatus</th>\n",
       "      <th>Medu</th>\n",
       "      <th>Fedu</th>\n",
       "      <th>Mjob</th>\n",
       "      <th>Fjob</th>\n",
       "      <th>...</th>\n",
       "      <th>famrel</th>\n",
       "      <th>freetime</th>\n",
       "      <th>goout</th>\n",
       "      <th>Dalc</th>\n",
       "      <th>Walc</th>\n",
       "      <th>health</th>\n",
       "      <th>absences</th>\n",
       "      <th>G1</th>\n",
       "      <th>G2</th>\n",
       "      <th>G3</th>\n",
       "    </tr>\n",
       "  </thead>\n",
       "  <tbody>\n",
       "    <tr>\n",
       "      <th>0</th>\n",
       "      <td>GP</td>\n",
       "      <td>F</td>\n",
       "      <td>18</td>\n",
       "      <td>U</td>\n",
       "      <td>GT3</td>\n",
       "      <td>A</td>\n",
       "      <td>4</td>\n",
       "      <td>4</td>\n",
       "      <td>at_home</td>\n",
       "      <td>teacher</td>\n",
       "      <td>...</td>\n",
       "      <td>4</td>\n",
       "      <td>3</td>\n",
       "      <td>4</td>\n",
       "      <td>1</td>\n",
       "      <td>1</td>\n",
       "      <td>3</td>\n",
       "      <td>4</td>\n",
       "      <td>0</td>\n",
       "      <td>11</td>\n",
       "      <td>11</td>\n",
       "    </tr>\n",
       "    <tr>\n",
       "      <th>1</th>\n",
       "      <td>GP</td>\n",
       "      <td>F</td>\n",
       "      <td>17</td>\n",
       "      <td>U</td>\n",
       "      <td>GT3</td>\n",
       "      <td>T</td>\n",
       "      <td>1</td>\n",
       "      <td>1</td>\n",
       "      <td>at_home</td>\n",
       "      <td>other</td>\n",
       "      <td>...</td>\n",
       "      <td>5</td>\n",
       "      <td>3</td>\n",
       "      <td>3</td>\n",
       "      <td>1</td>\n",
       "      <td>1</td>\n",
       "      <td>3</td>\n",
       "      <td>2</td>\n",
       "      <td>9</td>\n",
       "      <td>11</td>\n",
       "      <td>11</td>\n",
       "    </tr>\n",
       "    <tr>\n",
       "      <th>2</th>\n",
       "      <td>GP</td>\n",
       "      <td>F</td>\n",
       "      <td>15</td>\n",
       "      <td>U</td>\n",
       "      <td>LE3</td>\n",
       "      <td>T</td>\n",
       "      <td>1</td>\n",
       "      <td>1</td>\n",
       "      <td>at_home</td>\n",
       "      <td>other</td>\n",
       "      <td>...</td>\n",
       "      <td>4</td>\n",
       "      <td>3</td>\n",
       "      <td>2</td>\n",
       "      <td>2</td>\n",
       "      <td>3</td>\n",
       "      <td>3</td>\n",
       "      <td>6</td>\n",
       "      <td>12</td>\n",
       "      <td>13</td>\n",
       "      <td>12</td>\n",
       "    </tr>\n",
       "    <tr>\n",
       "      <th>3</th>\n",
       "      <td>GP</td>\n",
       "      <td>F</td>\n",
       "      <td>15</td>\n",
       "      <td>U</td>\n",
       "      <td>GT3</td>\n",
       "      <td>T</td>\n",
       "      <td>4</td>\n",
       "      <td>2</td>\n",
       "      <td>health</td>\n",
       "      <td>services</td>\n",
       "      <td>...</td>\n",
       "      <td>3</td>\n",
       "      <td>2</td>\n",
       "      <td>2</td>\n",
       "      <td>1</td>\n",
       "      <td>1</td>\n",
       "      <td>5</td>\n",
       "      <td>0</td>\n",
       "      <td>14</td>\n",
       "      <td>14</td>\n",
       "      <td>14</td>\n",
       "    </tr>\n",
       "    <tr>\n",
       "      <th>4</th>\n",
       "      <td>GP</td>\n",
       "      <td>F</td>\n",
       "      <td>16</td>\n",
       "      <td>U</td>\n",
       "      <td>GT3</td>\n",
       "      <td>T</td>\n",
       "      <td>3</td>\n",
       "      <td>3</td>\n",
       "      <td>other</td>\n",
       "      <td>other</td>\n",
       "      <td>...</td>\n",
       "      <td>4</td>\n",
       "      <td>3</td>\n",
       "      <td>2</td>\n",
       "      <td>1</td>\n",
       "      <td>2</td>\n",
       "      <td>5</td>\n",
       "      <td>0</td>\n",
       "      <td>11</td>\n",
       "      <td>13</td>\n",
       "      <td>13</td>\n",
       "    </tr>\n",
       "  </tbody>\n",
       "</table>\n",
       "<p>5 rows × 33 columns</p>\n",
       "</div>"
      ],
      "text/plain": [
       "  school sex  age address famsize Pstatus  Medu  Fedu     Mjob      Fjob ...  \\\n",
       "0     GP   F   18       U     GT3       A     4     4  at_home   teacher ...   \n",
       "1     GP   F   17       U     GT3       T     1     1  at_home     other ...   \n",
       "2     GP   F   15       U     LE3       T     1     1  at_home     other ...   \n",
       "3     GP   F   15       U     GT3       T     4     2   health  services ...   \n",
       "4     GP   F   16       U     GT3       T     3     3    other     other ...   \n",
       "\n",
       "  famrel freetime  goout  Dalc  Walc health absences  G1  G2  G3  \n",
       "0      4        3      4     1     1      3        4   0  11  11  \n",
       "1      5        3      3     1     1      3        2   9  11  11  \n",
       "2      4        3      2     2     3      3        6  12  13  12  \n",
       "3      3        2      2     1     1      5        0  14  14  14  \n",
       "4      4        3      2     1     2      5        0  11  13  13  \n",
       "\n",
       "[5 rows x 33 columns]"
      ]
     },
     "execution_count": 63,
     "metadata": {},
     "output_type": "execute_result"
    }
   ],
   "source": [
    "# Output the first few rows of the portuguese dataset.\n",
    "port_data.head()"
   ]
  },
  {
   "cell_type": "markdown",
   "metadata": {},
   "source": [
    "## Maria, you said something about binning the data?"
   ]
  },
  {
   "cell_type": "code",
   "execution_count": 23,
   "metadata": {
    "scrolled": true
   },
   "outputs": [
    {
     "data": {
      "image/png": "iVBORw0KGgoAAAANSUhEUgAAAXoAAAEKCAYAAAAcgp5RAAAABHNCSVQICAgIfAhkiAAAAAlwSFlz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\ncaQmMeZOhHcAAAAASUVORK5CYII=\n",
      "text/plain": [
       "<matplotlib.figure.Figure at 0x10ec433c8>"
      ]
     },
     "metadata": {},
     "output_type": "display_data"
    }
   ],
   "source": [
    "bins = pd.qcut(math_data['age'], 10, retbins=True,duplicates='drop')[1]\n",
    "\n",
    "plt.hist(math_data['age'], bins, range=(bins.min(),bins.max())) # matplotlib hist function\n",
    "plt.xlabel('age')\n",
    "plt.show()"
   ]
  },
  {
   "cell_type": "code",
   "execution_count": 24,
   "metadata": {},
   "outputs": [
    {
     "data": {
      "image/png": "iVBORw0KGgoAAAANSUhEUgAAAXoAAAEKCAYAAAAcgp5RAAAABHNCSVQICAgIfAhkiAAAAAlwSFlz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\n",
      "text/plain": [
       "<matplotlib.figure.Figure at 0x10eb23c18>"
      ]
     },
     "metadata": {},
     "output_type": "display_data"
    }
   ],
   "source": [
    "bins = pd.qcut(math_data['freetime'], 10, retbins=True,duplicates='drop')[1]\n",
    "\n",
    "plt.hist(math_data['freetime'], bins, range=(bins.min(),bins.max())) # matplotlib hist function\n",
    "plt.xlabel('freetime')\n",
    "plt.show()"
   ]
  },
  {
   "cell_type": "markdown",
   "metadata": {},
   "source": [
    "# We need to find which values are most useful"
   ]
  },
  {
   "cell_type": "code",
   "execution_count": null,
   "metadata": {
    "collapsed": true
   },
   "outputs": [],
   "source": [
    "# Did Reid say no to PCA?? If no, then here's the code. If yes, what's the correct algorithm?\n",
    "\n",
    "import matplotlib\n",
    "import matplotlib.pyplot as plt\n",
    "from time import time\n",
    "from sklearn import (cluster, datasets, decomposition, ensemble, lda, manifold, random_projection)\n",
    "from mpl_toolkits.mplot3d import Axes3D \n",
    "\n",
    "data = data.select_dtypes(include=[np.float])\n",
    "pca = decomposition.PCA(n_components=2)\n",
    "data_pca = pca.fit_transform(data)\n",
    "\n",
    "plot_embedding(data_pca, \"PCA Graph\\n\")\n"
   ]
  },
  {
   "cell_type": "markdown",
   "metadata": {},
   "source": [
    "# Random Forest"
   ]
  },
  {
   "cell_type": "code",
   "execution_count": 64,
   "metadata": {},
   "outputs": [
    {
<<<<<<< HEAD
     "name": "stdout",
     "output_type": "stream",
     "text": [
      "   age  Medu  Fedu  traveltime  studytime  failures  famrel  freetime  goout  \\\n",
      "0   18     4     4           2          2         0       4         3      4   \n",
      "1   17     1     1           1          2         0       5         3      3   \n",
      "2   15     1     1           1          2         3       4         3      2   \n",
      "3   15     4     2           1          3         0       3         2      2   \n",
      "4   16     3     3           1          2         0       4         3      2   \n",
      "\n",
      "   Dalc      ...       activities_no  activities_yes  nursery_no  nursery_yes  \\\n",
      "0     1      ...                   1               0           0            1   \n",
      "1     1      ...                   1               0           1            0   \n",
      "2     2      ...                   1               0           0            1   \n",
      "3     1      ...                   0               1           0            1   \n",
      "4     1      ...                   1               0           0            1   \n",
      "\n",
      "   higher_no  higher_yes  internet_no  internet_yes  romantic_no  romantic_yes  \n",
      "0          0           1            1             0            1             0  \n",
      "1          0           1            0             1            1             0  \n",
      "2          0           1            0             1            1             0  \n",
      "3          0           1            0             1            0             1  \n",
      "4          0           1            1             0            1             0  \n",
      "\n",
      "[5 rows x 58 columns]\n",
      "   age  studytime\n",
      "0   18          2\n",
      "1   17          2\n",
      "2   15          2\n",
      "3   15          3\n",
      "4   16          2\n"
=======
     "ename": "ValueError",
     "evalue": "could not convert string to float: 'M'",
     "output_type": "error",
     "traceback": [
      "\u001b[0;31m---------------------------------------------------------------------------\u001b[0m",
      "\u001b[0;31mValueError\u001b[0m                                Traceback (most recent call last)",
      "\u001b[0;32m<ipython-input-17-cccf370bdb71>\u001b[0m in \u001b[0;36m<module>\u001b[0;34m()\u001b[0m\n\u001b[1;32m     12\u001b[0m \u001b[0;34m\u001b[0m\u001b[0m\n\u001b[1;32m     13\u001b[0m \u001b[0mmath_rfc\u001b[0m \u001b[0;34m=\u001b[0m \u001b[0mRandomForestClassifier\u001b[0m\u001b[0;34m(\u001b[0m\u001b[0mmax_depth\u001b[0m\u001b[0;34m=\u001b[0m\u001b[0;36m4\u001b[0m\u001b[0;34m)\u001b[0m\u001b[0;34m\u001b[0m\u001b[0m\n\u001b[0;32m---> 14\u001b[0;31m \u001b[0mmath_rfc\u001b[0m\u001b[0;34m.\u001b[0m\u001b[0mfit\u001b[0m\u001b[0;34m(\u001b[0m\u001b[0mX_math\u001b[0m\u001b[0;34m,\u001b[0m \u001b[0mY_math\u001b[0m\u001b[0;34m)\u001b[0m\u001b[0;34m\u001b[0m\u001b[0m\n\u001b[0m\u001b[1;32m     15\u001b[0m \u001b[0;34m\u001b[0m\u001b[0m\n\u001b[1;32m     16\u001b[0m \u001b[0;34m\u001b[0m\u001b[0m\n",
      "\u001b[0;32m/Users/silvercam/anaconda/lib/python3.6/site-packages/sklearn/ensemble/forest.py\u001b[0m in \u001b[0;36mfit\u001b[0;34m(self, X, y, sample_weight)\u001b[0m\n\u001b[1;32m    245\u001b[0m         \"\"\"\n\u001b[1;32m    246\u001b[0m         \u001b[0;31m# Validate or convert input data\u001b[0m\u001b[0;34m\u001b[0m\u001b[0;34m\u001b[0m\u001b[0m\n\u001b[0;32m--> 247\u001b[0;31m         \u001b[0mX\u001b[0m \u001b[0;34m=\u001b[0m \u001b[0mcheck_array\u001b[0m\u001b[0;34m(\u001b[0m\u001b[0mX\u001b[0m\u001b[0;34m,\u001b[0m \u001b[0maccept_sparse\u001b[0m\u001b[0;34m=\u001b[0m\u001b[0;34m\"csc\"\u001b[0m\u001b[0;34m,\u001b[0m \u001b[0mdtype\u001b[0m\u001b[0;34m=\u001b[0m\u001b[0mDTYPE\u001b[0m\u001b[0;34m)\u001b[0m\u001b[0;34m\u001b[0m\u001b[0m\n\u001b[0m\u001b[1;32m    248\u001b[0m         \u001b[0my\u001b[0m \u001b[0;34m=\u001b[0m \u001b[0mcheck_array\u001b[0m\u001b[0;34m(\u001b[0m\u001b[0my\u001b[0m\u001b[0;34m,\u001b[0m \u001b[0maccept_sparse\u001b[0m\u001b[0;34m=\u001b[0m\u001b[0;34m'csc'\u001b[0m\u001b[0;34m,\u001b[0m \u001b[0mensure_2d\u001b[0m\u001b[0;34m=\u001b[0m\u001b[0;32mFalse\u001b[0m\u001b[0;34m,\u001b[0m \u001b[0mdtype\u001b[0m\u001b[0;34m=\u001b[0m\u001b[0;32mNone\u001b[0m\u001b[0;34m)\u001b[0m\u001b[0;34m\u001b[0m\u001b[0m\n\u001b[1;32m    249\u001b[0m         \u001b[0;32mif\u001b[0m \u001b[0missparse\u001b[0m\u001b[0;34m(\u001b[0m\u001b[0mX\u001b[0m\u001b[0;34m)\u001b[0m\u001b[0;34m:\u001b[0m\u001b[0;34m\u001b[0m\u001b[0m\n",
      "\u001b[0;32m/Users/silvercam/anaconda/lib/python3.6/site-packages/sklearn/utils/validation.py\u001b[0m in \u001b[0;36mcheck_array\u001b[0;34m(array, accept_sparse, dtype, order, copy, force_all_finite, ensure_2d, allow_nd, ensure_min_samples, ensure_min_features, warn_on_dtype, estimator)\u001b[0m\n\u001b[1;32m    380\u001b[0m                                       force_all_finite)\n\u001b[1;32m    381\u001b[0m     \u001b[0;32melse\u001b[0m\u001b[0;34m:\u001b[0m\u001b[0;34m\u001b[0m\u001b[0m\n\u001b[0;32m--> 382\u001b[0;31m         \u001b[0marray\u001b[0m \u001b[0;34m=\u001b[0m \u001b[0mnp\u001b[0m\u001b[0;34m.\u001b[0m\u001b[0marray\u001b[0m\u001b[0;34m(\u001b[0m\u001b[0marray\u001b[0m\u001b[0;34m,\u001b[0m \u001b[0mdtype\u001b[0m\u001b[0;34m=\u001b[0m\u001b[0mdtype\u001b[0m\u001b[0;34m,\u001b[0m \u001b[0morder\u001b[0m\u001b[0;34m=\u001b[0m\u001b[0morder\u001b[0m\u001b[0;34m,\u001b[0m \u001b[0mcopy\u001b[0m\u001b[0;34m=\u001b[0m\u001b[0mcopy\u001b[0m\u001b[0;34m)\u001b[0m\u001b[0;34m\u001b[0m\u001b[0m\n\u001b[0m\u001b[1;32m    383\u001b[0m \u001b[0;34m\u001b[0m\u001b[0m\n\u001b[1;32m    384\u001b[0m         \u001b[0;32mif\u001b[0m \u001b[0mensure_2d\u001b[0m\u001b[0;34m:\u001b[0m\u001b[0;34m\u001b[0m\u001b[0m\n",
      "\u001b[0;31mValueError\u001b[0m: could not convert string to float: 'M'"
>>>>>>> b4576016fdbe6fafbde1d88f73ce734ec498aa87
     ]
    },
    {
     "data": {
      "text/plain": [
       "<matplotlib.text.Text at 0x120be6860>"
      ]
     },
     "execution_count": 64,
     "metadata": {},
     "output_type": "execute_result"
    },
    {
     "data": {
      "image/png": "iVBORw0KGgoAAAANSUhEUgAAAW4AAAEICAYAAAB/Dx7IAAAABHNCSVQICAgIfAhkiAAAAAlwSFlz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\nt4hIwvw/T3E96CtrrjgAAAAASUVORK5CYII=\n",
      "text/plain": [
       "<matplotlib.figure.Figure at 0x11cc5e0b8>"
      ]
     },
     "metadata": {},
     "output_type": "display_data"
    }
   ],
   "source": [
    "# Reid said Random Forest Classifier is very similar to Decision Trees. We just had to change the classifier, \n",
    "# which I already did. Try to make the rest of the code from the Classifiers notebook work with our stuff.\n",
    "# Focus on getting the math data set running for the sake of simplicty and once we do that we can copy\n",
    "# and paste it for the other one. \n",
    "h = .02  # step size in the mesh\n",
    "\n",
<<<<<<< HEAD
    "X_math = pd.get_dummies(X_math)\n",
    "print(X_math.head())\n",
    "X_math = X_math.iloc[:, [0,4]] #create classifier using age and study time\n",
=======
    "\n",
    "from sklearn.preprocessing import LabelEncoder\n",
    "\n",
    "le = LabelEncoder()\n",
    "le.fit(Y_math)\n",
    "Y = le.transform(Y_math)\n",
    "\n",
>>>>>>> b4576016fdbe6fafbde1d88f73ce734ec498aa87
    "math_rfc = RandomForestClassifier(max_depth=4)\n",
    "math_rfc.fit(X_math, Y_math)\n",
    "print(X_math.head())\n",
    "\n",
    "# Create color maps\n",
    "cmap_light = ListedColormap(['#FFAAAA', '#AAAAFF'])\n",
    "cmap_bold = ListedColormap(['#FF0000', '#0000FF'])\n",
    "\n",
    "# Plot the decision boundary. For that, we will assign a color to each\n",
    "# point in the mesh [x_min, m_max]x[y_min, y_max].\n",
    "x_min, x_max = X_math.iloc[:, 0].min() - 1, X_math.iloc[:, 0].max() + 1\n",
    "y_min, y_max = X_math.iloc[:, 1].min() - 1, X_math.iloc[:, 1].max() + 1\n",
    "xx, yy = np.meshgrid(np.arange(x_min, x_max, h),\n",
    "                     np.arange(y_min, y_max, h))\n",
    "Z = math_rfc.predict(np.c_[xx.ravel(), yy.ravel()])\n",
    "\n",
    "# Put the result into a color plot\n",
    "Z = Z.reshape(xx.shape)\n",
    "plt.figure()\n",
    "plt.pcolormesh(xx, yy, Z, cmap=cmap_light)\n",
    "\n",
    "# Plot also the training points\n",
    "plt.scatter(X_math.iloc[:, 0], X_math.iloc[:, 1], c=Y_math, cmap=cmap_bold)\n",
    "plt.xlim(xx.min(), xx.max())\n",
    "plt.ylim(yy.min(), yy.max())\n",
    "plt.title(\"Random Forest Classifier\")"
   ]
  },
  {
   "cell_type": "code",
   "execution_count": null,
   "metadata": {
    "collapsed": true
   },
   "outputs": [],
   "source": []
  }
 ],
 "metadata": {
  "kernelspec": {
   "display_name": "Python 3",
   "language": "python",
   "name": "python3"
  },
  "language_info": {
   "codemirror_mode": {
    "name": "ipython",
    "version": 3
   },
   "file_extension": ".py",
   "mimetype": "text/x-python",
   "name": "python",
   "nbconvert_exporter": "python",
   "pygments_lexer": "ipython3",
   "version": "3.6.1"
  }
 },
 "nbformat": 4,
 "nbformat_minor": 2
}
